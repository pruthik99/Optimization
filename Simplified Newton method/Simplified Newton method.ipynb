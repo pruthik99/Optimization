{
 "cells": [
  {
   "cell_type": "code",
   "execution_count": 7,
   "id": "c47a0804",
   "metadata": {},
   "outputs": [
    {
     "name": "stdout",
     "output_type": "stream",
     "text": [
      "Found solution after 364 iterations.\n",
      "\n",
      "The root of given f(x) is: 6.930305224117795\n"
     ]
    }
   ],
   "source": [
    "# Numerical 5\n",
    "# for first condition\n",
    "# |f(xk)| < Ea\n",
    "\n",
    "def newton(f,D_f,x0,epsilon,iteration):\n",
    "    \n",
    "    xn = x0\n",
    "    for n in range(0,iteration):\n",
    "        fxk = f(xn)\n",
    "        if abs(fxk) < epsilon:\n",
    "            print('Found solution after',n,'iterations.\\n')\n",
    "            return xn\n",
    "        D_fxk = D_f(xn)\n",
    "        if D_fxk == 0:\n",
    "            print('No root for zero derivative.')\n",
    "            return None\n",
    "                                #xk+1 = xk-(gradient(f(xk))/hess(f(x0)))\n",
    "        xn = xn - (D_fxk*e)    #here I calculated the function of simplifiled newton method to find the new point. \n",
    "    print('Exceeded maximum number of iterations. No solution found.')\n",
    "    return None\n",
    "\n",
    "e = 2.71\n",
    "Fun = lambda x: e**-x - 10**-9\n",
    "Der_Of_Fun = lambda x: -e**-x\n",
    "root = newton(Fun,Der_Of_Fun,0,0.001,1000)\n",
    "print('The root of given f(x) is:',root)"
   ]
  },
  {
   "cell_type": "code",
   "execution_count": 8,
   "id": "16991881",
   "metadata": {},
   "outputs": [
    {
     "name": "stdout",
     "output_type": "stream",
     "text": [
      "Found solution after 364 iterations.\n",
      "\n",
      "The root of given f(x) is: 6.930305224117795\n"
     ]
    }
   ],
   "source": [
    "# Numerical 5\n",
    "# for second condition\n",
    "# |f(xk)| < Er |f(x0)| + Ea\n",
    "\n",
    "def newton(f,D_f,x0,epsilon,iteration):\n",
    "    \n",
    "    xn = x0\n",
    "    for n in range(0,iteration):\n",
    "        fxk = f(xn)\n",
    "        z = (0.0000000001 * abs(fxk)) + 0.001\n",
    "        if abs(fxk) < z:\n",
    "            print('Found solution after',n,'iterations.\\n')\n",
    "            return xn\n",
    "        D_fxk = D_f(xn)\n",
    "        if D_fxk == 0:\n",
    "            print('Zero derivative. No solution found.')\n",
    "            return None\n",
    "                                #xk+1 = xk-(gradient(f(xk))/hess(f(x0)))\n",
    "        xn = xn - (D_fxk*e)  #here I calculated the function of simplifiled newton method to find the new point. \n",
    "    print('Exceeded maximum iterations. No solution found.')\n",
    "    return None\n",
    "\n",
    "e = 2.71\n",
    "Fun = lambda x: e**-x - 10**-9\n",
    "Der_Of_Fun = lambda x: -e**-x\n",
    "root = newton(Fun,Der_Of_Fun,0,0.001,1000)\n",
    "print('The root of given f(x) is:',root)"
   ]
  },
  {
   "cell_type": "code",
   "execution_count": 9,
   "id": "b918282e",
   "metadata": {},
   "outputs": [
    {
     "name": "stdout",
     "output_type": "stream",
     "text": [
      "Found solution after 905 iterations.\n",
      "\n",
      "The root of given f(x) is: 7.930103792931009\n"
     ]
    }
   ],
   "source": [
    "# Numerical 5\n",
    "# for third condition\n",
    "# |xk+1 - xk)| < Ea\n",
    "\n",
    "def newton(f,D_f,x0,epsilon,iteration):\n",
    "    \n",
    "    xn = x0\n",
    "    fxk = f(xn)\n",
    "    D_fxk = D_f(xn)\n",
    "    xnk = xn - (D_fxk*e)\n",
    "    for n in range(0,iteration):\n",
    "        \n",
    "        fxk = f(xn)\n",
    "        if abs(xnk - xn) < 0.001:\n",
    "            print('Found solution after',n,'iterations.\\n')\n",
    "            return xn\n",
    "        D_fxk = D_f(xn)\n",
    "        if D_fxk == 0:\n",
    "            print('Zero derivative. No solution found.')\n",
    "            return None\n",
    "        xn = xnk\n",
    "                                #xk+1 = xk-(gradient(f(xk))/hess(f(x0)))\n",
    "        xnk = xn - (D_fxk*e) #here I calculated the function of simplifiled newton method to find the new point. \n",
    "    print('Exceeded maximum iterations. No solution found.')\n",
    "    return None\n",
    "\n",
    "e = 2.71\n",
    "Fun = lambda x: e**-x - 10**-9\n",
    "Der_Of_Fun = lambda x: -e**-x\n",
    "root = newton(Fun,Der_Of_Fun,0,0.001,1000)\n",
    "print('The root of given f(x) is:',root)"
   ]
  },
  {
   "cell_type": "code",
   "execution_count": 10,
   "id": "ea362bc0",
   "metadata": {},
   "outputs": [
    {
     "name": "stdout",
     "output_type": "stream",
     "text": [
      "Found solution after 905 iterations.\n",
      "\n",
      "The root of given f(x) is: 7.930103792931009\n"
     ]
    }
   ],
   "source": [
    "# Numerical 5\n",
    "# for fourth condition\n",
    "# |(xk+1 - xk)| < Er |f(x0)| + Ea\n",
    "\n",
    "def newton(f,D_f,x0,epsilon,iteration):\n",
    "    \n",
    "    xn = x0\n",
    "    fxk = f(xn)\n",
    "    D_fxk = D_f(xn)\n",
    "    xnk = xn - (D_fxk*e)\n",
    "    for n in range(0,iteration):\n",
    "        \n",
    "        fxk = f(xn)\n",
    "        z = (0.0000000001 * abs(fxk)) + 0.001\n",
    "        if abs(xnk - xn) < z:\n",
    "            print('Found solution after',n,'iterations.\\n')\n",
    "            return xn\n",
    "        D_fxk = D_f(xn)\n",
    "        if D_fxk == 0:\n",
    "            print('Zero derivative. No solution found.')\n",
    "            return None\n",
    "        xn = xnk\n",
    "                                #xk+1 = xk-(gradient(f(xk))/hess(f(x0)))\n",
    "        xnk = xn - (D_fxk*e) #here I calculated the function of simplifiled newton method to find the new point. \n",
    "    print('Exceeded maximum iterations. No solution found.')\n",
    "    return None\n",
    "\n",
    "e = 2.71\n",
    "Fun = lambda x: e**-x - 10**-9\n",
    "Der_Of_Fun = lambda x: -e**-x\n",
    "root = newton(Fun,Der_Of_Fun,0,0.001,1000)\n",
    "print('The root of given f(x) is:',root)"
   ]
  },
  {
   "cell_type": "code",
   "execution_count": null,
   "id": "7f9d10f7",
   "metadata": {},
   "outputs": [],
   "source": []
  }
 ],
 "metadata": {
  "kernelspec": {
   "display_name": "Python 3 (ipykernel)",
   "language": "python",
   "name": "python3"
  },
  "language_info": {
   "codemirror_mode": {
    "name": "ipython",
    "version": 3
   },
   "file_extension": ".py",
   "mimetype": "text/x-python",
   "name": "python",
   "nbconvert_exporter": "python",
   "pygments_lexer": "ipython3",
   "version": "3.9.6"
  }
 },
 "nbformat": 4,
 "nbformat_minor": 5
}
