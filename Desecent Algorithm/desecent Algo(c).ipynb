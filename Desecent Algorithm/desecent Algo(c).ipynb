{
 "cells": [
  {
   "cell_type": "code",
   "execution_count": 105,
   "id": "fad75c4a",
   "metadata": {},
   "outputs": [],
   "source": [
    "import numpy as np\n",
    "\n",
    "beta = 0.5\n",
    "sigma = 1e-4\n",
    "epsilon = 0.001\n",
    "\n",
    "# Initial points\n",
    "x_0 = [-1.2, 1]\n",
    "\n",
    "x = x_0[0]\n",
    "y = x_0[1]"
   ]
  },
  {
   "cell_type": "code",
   "execution_count": 116,
   "id": "b86a602e",
   "metadata": {},
   "outputs": [],
   "source": [
    "def rosenbrock_function(x1, x2):\n",
    "\n",
    "    rosenbrock = 100 * (x2 - x1 ** 2)**2 + (1 - x1) ** 2\n",
    "    return rosenbrock\n",
    "\n",
    "\n",
    "def norm_of_gradient(grad):\n",
    "\n",
    "    x1 = np.power(grad[0], 2)\n",
    "    y1 = np.power(grad[1], 2)\n",
    "    #print(\"Gradient\", np.sqrt(left+right))\n",
    "    return np.sqrt(x1+y1)\n",
    "\n",
    "\n",
    "def grad_of_rosenbrock(x1, x2):\n",
    "    gradient = [400 * np.power(x1, 3) - 400 * x1 * x2 + 2*x1 - 2, 200 * (x2 - np.power(x1, 2))]\n",
    "    return np.asarray(gradient)\n",
    "\n",
    "def hessian(x1,x2):\n",
    "    \n",
    "    df_dx1 = -400 * x2 + 1200 * x1 ** 2 + 2\n",
    "    df_dx1dx2 = -400 * x1\n",
    "    df_dx2dx1 = -400 * x1\n",
    "    df_dx2 = 200\n",
    "\n",
    "    return np.array([df_dx1, df_dx1dx2])\n",
    "\n"
   ]
  },
  {
   "cell_type": "code",
   "execution_count": 137,
   "id": "a03b968f",
   "metadata": {},
   "outputs": [],
   "source": [
    "def gradient_descent_rosenbrock(initial_points, sigma, epsilon):\n",
    "    x = initial_points[0]\n",
    "    y = initial_points[1]\n",
    "    x_k = initial_points\n",
    "    min_value = rosenbrock_function(x, y)\n",
    "\n",
    "    # Initialize iteration counter\n",
    "    k = 0\n",
    "\n",
    "    while norm_of_gradient(grad_of_rosenbrock(x_k[0], x_k[1])) > epsilon:\n",
    "        #print(norm(grad_r(x_k[0], x_k[1])))\n",
    "        \n",
    "        d_k = -1 * np.asarray(hessian(x_k[0], x_k[1]))\n",
    "        tk = 1\n",
    "        # print(s_l)\n",
    "        x_k = x_k + tk * d_k\n",
    "        k = k + 1\n",
    "        min_value = rosenbrock_function(x_k[0], x_k[1])\n",
    "        print(\"min_value: \", min_value)\n",
    "        print(\"Iteration Number: \", k)\n",
    "        \n",
    "        if k == 4:\n",
    "            break\n",
    "\n",
    "    return min_value, k"
   ]
  },
  {
   "cell_type": "code",
   "execution_count": 138,
   "id": "c3a5f152",
   "metadata": {},
   "outputs": [
    {
     "name": "stdout",
     "output_type": "stream",
     "text": [
      "min_value:  314201307279512.25\n",
      "Iteration Number:  1\n",
      "min_value:  2.045639299497645e+39\n",
      "Iteration Number:  2\n",
      "min_value:  8.677269801881888e+88\n",
      "Iteration Number:  3\n",
      "min_value:  1.56131735254701e+188\n",
      "Iteration Number:  4\n",
      "Mininum value: 1.56131735254701e+188 Number of iteration: 4\n"
     ]
    }
   ],
   "source": [
    "min_value_rose, iterations = gradient_descent_rosenbrock(x_0, sigma, epsilon)\n",
    "print('Mininum value:',min_value_rose,'Number of iteration:', iterations)"
   ]
  },
  {
   "cell_type": "code",
   "execution_count": null,
   "id": "4ea0c78e",
   "metadata": {},
   "outputs": [],
   "source": []
  },
  {
   "cell_type": "code",
   "execution_count": null,
   "id": "91283f8a",
   "metadata": {},
   "outputs": [],
   "source": []
  }
 ],
 "metadata": {
  "kernelspec": {
   "display_name": "Python 3 (ipykernel)",
   "language": "python",
   "name": "python3"
  },
  "language_info": {
   "codemirror_mode": {
    "name": "ipython",
    "version": 3
   },
   "file_extension": ".py",
   "mimetype": "text/x-python",
   "name": "python",
   "nbconvert_exporter": "python",
   "pygments_lexer": "ipython3",
   "version": "3.9.6"
  }
 },
 "nbformat": 4,
 "nbformat_minor": 5
}
